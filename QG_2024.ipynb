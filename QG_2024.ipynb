{
 "cells": [
  {
   "cell_type": "markdown",
   "id": "5725a978-2ed3-4677-895f-4434ef9d9bc3",
   "metadata": {},
   "source": [
    "# The Robbins Lab\n",
    "### APPLYING QUANTITATIVE GENETICS, GENOMICS, AND COMPUTATIONAL SCIENCE TO IMPROVE THE EFFICIENCY OF CROP BREEDING PROGRAMS AND INCREASE UNDERSTANDING OF COMPLEX TRAITS.\n",
    "\n",
    "\n",
    "![](images/RobbinsLab.png) \n"
   ]
  },
  {
   "cell_type": "markdown",
   "id": "f30ca649-da29-41e6-8d82-c544f2d79076",
   "metadata": {},
   "source": [
    "# Definitions\n",
    "## **Genome** – the complete sequence of nucleotides of an individual’s DNA\n",
    "## **Gene** – A gene is a DNA sequence with some functional purpose. A transcriptional unit including promoter, introns, exons, and transcription terminator.\n",
    "## **Locus** – The location of a specific gene in the genome.\n",
    "## **Allele** – Variants of the same gene at the same locus.\n",
    "## **Marker** – A genotyped polymorphism that is used to track differences in the genomes of individuals\n"
   ]
  },
  {
   "cell_type": "markdown",
   "id": "ad88514c-82e8-4922-b7db-a73cd8495c75",
   "metadata": {},
   "source": [
    "# Gene Action\n",
    "\n",
    "## Additive\n",
    "![](images/additive.png)\n",
    "\n",
    "## Dominance\n",
    "![](images/dominance.png)\n",
    "\n",
    "## Epistasis - Interaction between loci. The multi-locus genetic effect is not equal to the sum of the effects at each locus.\n",
    "\n",
    "## Pleiotropy – When a single gene effects more than one trait.\n",
    "\n",
    "## Polygenetic trait – A trait controlled by more than one gene.\n"
   ]
  },
  {
   "cell_type": "markdown",
   "id": "14f1805b-fccd-4bb6-91c7-2da0ed644154",
   "metadata": {},
   "source": [
    "# Inheritance\n",
    "\n",
    "![](images/Meiosis.png)"
   ]
  },
  {
   "cell_type": "markdown",
   "id": "1f8bb689-948d-4eaf-b6b0-992a8453913e",
   "metadata": {},
   "source": [
    "# 1.  **Law of segregation**: A trait is influenced by a pair of alleles but each individual passes on to       its progeny a gamete that contains only a single, random, allele.\n",
    "\n",
    "# 2.  **Law of independent assortment**: Alleles of different factors combine independently in the gamete.\n"
   ]
  },
  {
   "cell_type": "markdown",
   "id": "63c4f426-82da-4419-8eab-e8fbea4407f9",
   "metadata": {},
   "source": [
    "# Inheritance of alleles is random and conditional on the genotype of parents\n",
    "- ### As a result inheritance follows well defined discrete statistical probability distributions\n",
    "- ### This combined with the properties of the central limit theorem enable us to treat most complex genetic (influenced by multiple genetic anf environmental factors) effects as being normally distributed.\n",
    "![](images/normal_dist.jpeg)\n",
    "- ### The fact that complex genetic effects tend to follow normal distributions means statistics play a critical role on plant breeding efforts.\n",
    "- ### Quantitative Genetics is a field of science that specializes in developing and applying statistical modeling to better understand and more effectively modify complex genetic traits.\n"
   ]
  },
  {
   "cell_type": "markdown",
   "id": "0dccbc8a-ba53-420c-aeef-164203d2d099",
   "metadata": {},
   "source": [
    "# Central Limit Theorem\n",
    "- ### CLT states the sum of a large number of independent identically distributed random variables with a finite variance will be approximately normal.\n"
   ]
  },
  {
   "cell_type": "code",
   "execution_count": null,
   "id": "2cff7791-5660-4e53-afe9-474d3cb3041b",
   "metadata": {},
   "outputs": [],
   "source": [
    "# Central Limit Demo\n",
    "library(ggplot2)\n",
    "set.seed(100)\n",
    "dat = rexp(10000)\n",
    "#dat=runif(10000)\n",
    "ggplot(data.frame(x=dat), aes(x=x)) +\n",
    "  geom_histogram(aes(y = ..density..), binwidth=.1 ) + xlab(\"x value\") +\n",
    "  ggtitle(\"Population Distribution\") +\n",
    "  theme_bw(base_size=18) +\n",
    "  theme(panel.background=element_blank(),\n",
    "        panel.grid=element_blank())"
   ]
  },
  {
   "cell_type": "code",
   "execution_count": null,
   "id": "1696f657-5845-4314-bc96-36d577f1c283",
   "metadata": {},
   "outputs": [],
   "source": [
    "set.seed(100)\n",
    "samples <- c()\n",
    "for(i in 1:1000){\n",
    "  samples <- c(samples, mean(sample(dat, 30)))\n",
    "}\n",
    "ggplot(data.frame(x=samples), aes(x=x)) +\n",
    "  geom_histogram(aes(y = ..density..), binwidth=.05 ) + xlab(\"x value\") +\n",
    "  ggtitle(\"1000 Means of 30 from Population\") +\n",
    "  theme_bw(base_size=18) +\n",
    "  theme(panel.background=element_blank(),\n",
    "        panel.grid=element_blank())"
   ]
  },
  {
   "cell_type": "markdown",
   "id": "72acf9fc-eb05-49b8-a3bf-af148e2199a4",
   "metadata": {},
   "source": [
    "# How many genes need to controll a trait before the genetic effects follow a normal distribution?"
   ]
  },
  {
   "cell_type": "code",
   "execution_count": null,
   "id": "eb32cc66-f571-472a-8e1c-143dc162fcea",
   "metadata": {},
   "outputs": [],
   "source": [
    "# number of quantitative trait loci controlling the trait of interest\n",
    "nQTL=7\n",
    "\n",
    "# allocating a vector to store the sum of QTL effects for 1000 lines\n",
    "gEffects=rep(0,1000)\n",
    "\n",
    "# simulating QTL effects using a uniform distribution (0,1)\n",
    "QTLeffect=runif(nQTL)\n",
    "\n",
    "# Sampling bi-allelic polymorphisms for 10000 lines\n",
    "# Assuming a high minor allele frequency of .4\n",
    "# setting up a loop to sample genotypes \n",
    "for(i in c(1:1000)){\n",
    "    for(j in c(1:nQTL)){\n",
    "        # sample first allele at the jth locus\n",
    "        if(runif(1)>.4){\n",
    "            #adding allele effect for the ith line\n",
    "            gEffects[i]=gEffects[i]+QTLeffect[j]\n",
    "        } else {\n",
    "            gEffects[i]=gEffects[i]-QTLeffect[j]\n",
    "        }\n",
    "            \n",
    "        # sample second allele a jth locus\n",
    "        if(runif(1)>.4){\n",
    "            #adding allele effect for the ith line\n",
    "            gEffects[i]=gEffects[i]+QTLeffect[j]\n",
    "        } else {\n",
    "            gEffects[i]=gEffects[i]-QTLeffect[j]\n",
    "        }\n",
    "    }\n",
    "}\n",
    "\n",
    "ggplot(data.frame(x=gEffects), aes(x=x)) +\n",
    "  geom_histogram(aes(y = ..density..), binwidth=.2 ) + xlab(\"genetic value\") +\n",
    "  ggtitle(\"Distribution of genetics effects\") +\n",
    "  theme_bw(base_size=18) +\n",
    "  theme(panel.background=element_blank(),\n",
    "        panel.grid=element_blank())"
   ]
  },
  {
   "cell_type": "markdown",
   "id": "dea8e7ea-4c0d-43e7-9177-b552074ec94c",
   "metadata": {},
   "source": [
    "# Partitioning genetic and environmental sources of variation\n",
    "## We can define the relationship between the phenotypes we observe and the genetic merit that we want to estimate:\n",
    "\n",
    "## 𝑃 (phenotype)   =   𝐺 (genetic)   +   𝐸 (environment)\n",
    "\n",
    "## Assuming there is no covariance between genetic merit and environment:\n",
    "## $𝑉(𝑃) = 𝑉(𝐺) + 𝑉(𝐸)$ \n",
    "## And\n",
    "## $𝐶𝑜𝑣(𝑃,𝐺) = 𝐶𝑜𝑣(𝐺+𝐸,𝐺) = 𝐶𝑜𝑣(𝐺,𝐺) + 𝐶𝑜𝑣(𝐺,𝐸) = 𝑉(𝐺)$"
   ]
  },
  {
   "cell_type": "markdown",
   "id": "168208d6-090e-4e01-b3d1-7697b3e01d4e",
   "metadata": {},
   "source": [
    "# Regression\n",
    "## Consider the following linear predictor of y given x:\n",
    "  \n",
    "## $ \\hat{𝑦_{i}}=\\bar{𝑦} +𝑏_{(𝑦|𝑥)} (𝑥_{i} − \\bar{𝑥})$\n",
    " \n",
    "## In the above equation the slope that is used to predict $y$ based on observed values of $x$ is a function of the covariance between $x$ and $y$:\n",
    " \n",
    "## $ 𝑏_{(𝑦|𝑥)}=\\frac{𝐶𝑜𝑣(𝑥,𝑦)}{𝑉(𝑥)}$\n",
    "\n",
    "# Heritability\n",
    "\n",
    "## Given the phenotype is what we know, and the genetic merit is what we want to select on, we can use the covariance between the phenotype and genetic merit to predict genetic merit and make sections.\n",
    " \n",
    "## $𝑏_{(𝐺|𝑃)}=\\frac{𝑉(𝐺)}{(𝑉(𝐺)+𝑉(𝐸))}$\n",
    " \n",
    "## In breeding $𝑏_{(𝐺|𝑃)}$ is referred to as the broad sense heritability ($H^2$)\n",
    "\n",
    "# Partitioning of genetic variance\n",
    "\n",
    "## $\\sigma_{𝐺}^2=\\sigma_{𝐴}^2+\\sigma_{𝐷}^2+\\sigma_{𝐴𝐴}^2$\n",
    "\n",
    "## $\\sigma_{P}^2=\\sigma_{𝐴}^2+\\sigma_{𝐷}^2+\\sigma_{𝐴𝐴}^2+\\sigma_{E}^2$\n",
    "\n",
    "### $𝐶𝑜𝑣(𝑃,𝐴)=𝐶𝑜𝑣(𝐴+𝐸,𝐴)=𝐶𝑜𝑣(𝐴,𝐴)+𝐶𝑜𝑣(𝐴,𝐸)=𝑉(𝐴)= \\sigma_{𝐴}^2$\n",
    "\n",
    "## $𝑏_{(𝐴|𝑃)}=\\frac{\\sigma_{𝐴}^2}{\\sigma_{𝑃}^2}$\n",
    "\n",
    "## In breeding $𝑏_{(𝐴|𝑃)}$ is referred to as the narrow sense heritability ($h^2$)\n",
    "\n",
    "\n"
   ]
  },
  {
   "cell_type": "markdown",
   "id": "4695e1c8-a900-4e69-a931-4659d682ec64",
   "metadata": {},
   "source": [
    "# Response to selection\n",
    "## $𝑅=𝑏_{(𝐴|𝑃)}∗𝑆$\n",
    "\n",
    "## $𝑅=ℎ^2*𝑆$\n",
    "\n",
    "![](images/selection_differential.png)"
   ]
  },
  {
   "cell_type": "markdown",
   "id": "d4521e22-156d-49ad-a0d9-0578161f77b2",
   "metadata": {},
   "source": [
    "# Breeder's Equation \n",
    "## $R=i*h^2*\\sigma_{P}$\n",
    "\n",
    "## $R=i*h*\\sigma_{a}$\n",
    "\n",
    "## $R_{year}=\\frac{i*r*\\sigma_{a}}{L}$\n"
   ]
  },
  {
   "cell_type": "markdown",
   "id": "7319338d-4d7c-43c6-b7dc-6b1956fe71a9",
   "metadata": {},
   "source": [
    "# Breeding Schemes\n",
    "\n",
    "![](images/BreedingScheme.png)\n",
    " \n",
    "\n",
    "## Optimization\n",
    "\n",
    "### Let's look a 3 possible breeding schemes to determine which one is most effective. Each scenario uses the same amount of reasources but respresent trade-offs between selection intensity, selection accuracy, and generation interval.\n",
    "\n",
    "### **Scenario 1**: The best 10 lines are advanced after 1 year of testing. A total of 50 lines are tested each year with 4 plots per line. (selection intensity = 1.399)\n",
    "\n",
    "### **Scenario 2** The best 10 lines are advanced after 1 year of testing. A total of 200 lines are tested each year with one plot per line.(selection intensity = 2.0627)\n",
    "\n",
    "\n",
    "### **Scenario 3** The best 10 lines are advanced after 2 years of testing. A total of 100 lines are tested in two years with 2 plots per line in each year. (selection intensity = 1.755)\n",
    "\n",
    "### ***Which scenario is best when dealing with a trait that has $h^{2}=0.25$?***"
   ]
  },
  {
   "cell_type": "code",
   "execution_count": null,
   "id": "97815ef7-a29f-4eed-80d1-de6f59bb42d4",
   "metadata": {},
   "outputs": [],
   "source": [
    "# Simple example illustrating some trade offs.\n",
    "#input paramters\n",
    "h2_plot=.25\n",
    "# assuming phenotypic variance is 1\n",
    "gVar=h2_plot*1\n",
    "\n",
    "#Scenario 1\n",
    "nLines=50\n",
    "nReps=4\n",
    "nYears=1\n",
    "accuracy=(h2_plot/(h2_plot+((1-h2_plot)/nReps*nYears)))**.5\n",
    "selection_intensity=1.399\n",
    "\n",
    "# Genetic Gain Per Year (assuming it takes 2 years to develop new lines for testing and phenotypic variance =1)\n",
    "R=selection_intensity*accuracy*gVar**.5/(2+nYears)\n",
    "print(\"response to selection scenario 1\")\n",
    "print(R)\n",
    "\n",
    "# Scenario 2\n",
    "\n",
    "nLines=200\n",
    "nReps=1\n",
    "nYears=1\n",
    "accuracy=(h2_plot/(h2_plot+((1-h2_plot)/nReps*nYears)))**.5\n",
    "selection_intensity=2.0627\n",
    "\n",
    "# Genetic Gain Per Year (assuming it takes 2 years to develop new lines for testing and phenotypic variance =1)\n",
    "R=selection_intensity*accuracy*gVar**.5/(2+nYears)\n",
    "print(\"response to selection scenario 2\")\n",
    "print(R)\n",
    "\n",
    "# Scenario 3\n",
    "\n",
    "nLines=100\n",
    "nReps=2\n",
    "nYears=2\n",
    "accuracy=(h2_plot/(h2_plot+((1-h2_plot)/nReps*nYears)))**.5\n",
    "selection_intensity=1.755\n",
    "\n",
    "# Genetic Gain Per Year (assuming it takes 2 years to develop new lines for testing and phenotypic variance =1)\n",
    "R=selection_intensity*accuracy*gVar**.5/(2+nYears)\n",
    "print(\"response to selection scenario 3\")\n",
    "print(R)\n"
   ]
  },
  {
   "cell_type": "markdown",
   "id": "e1478efb-507f-4879-827a-690658736b58",
   "metadata": {},
   "source": [
    "## ***How do you think the results would change if the trait of interest had $h^{2}=0.75$?***"
   ]
  },
  {
   "cell_type": "markdown",
   "id": "664bd436-b6f3-4bdc-90ea-7be39ab4686a",
   "metadata": {},
   "source": [
    "# Genetic models\n",
    "### In the previous example we used an accuracy calculated as: \n",
    "\n",
    "## $acc=\\sqrt{\\frac{\\sigma_{a}^2}{\\sigma_{a}^2+\\frac{\\sigma_{e}^2}{n_{rep}*n_{years}}}}$\n",
    "\n",
    "### This is the case when mean performance is used as the selection criterion.\n",
    "### Given our understanding of inheritance we can fit more accurate models by ustilizing information on genetic relationships."
   ]
  },
  {
   "cell_type": "markdown",
   "id": "3a0588eb-ea6b-4ece-8618-dce6952323df",
   "metadata": {
    "jp-MarkdownHeadingCollapsed": true,
    "tags": []
   },
   "source": [
    "## Genetic Relationships: Identity by Descent\n",
    "### The genetic (co)variance between individuals for a given phenotype is determined by common alleles for the QTL that explain variance for the phenotype\n",
    "\n",
    "### In the absence of detailed information on the QTL, the (co)variance can be approximated by calculating the probability two individuals carry alleles that are identical by descent (IBD).\n",
    "### - IBD represents the probability that the same allele is inherited by two individuals from some common ancestor.\n",
    "### - These calculations can be done using pedigrees or genotypes\n"
   ]
  },
  {
   "cell_type": "markdown",
   "id": "524b2644-9e95-4208-91b3-7fb9f446acb8",
   "metadata": {},
   "source": [
    "## A simple illustration\n",
    "### In this exmple we are testing lines from 2 unrelated full sib families. The code below will simulate a polygenetic trait and compare prediction accuracy using a model that ignores genetic relationships and a mixed model that accounts for the relationships.\n"
   ]
  },
  {
   "cell_type": "markdown",
   "id": "7aebfb3c-3d7f-4712-81a5-f7c9e3e7b3fd",
   "metadata": {},
   "source": [
    "## Setting the heritability of the trait and loading packages"
   ]
  },
  {
   "cell_type": "code",
   "execution_count": null,
   "id": "e14f7a2a-4a9e-452e-8c29-17ce7ebcc510",
   "metadata": {},
   "outputs": [],
   "source": [
    "library(MASS)\n",
    "set.seed(35783948)\n",
    "#setting variety and residual variance\n",
    "VarV=25\n",
    "VarE=75"
   ]
  },
  {
   "cell_type": "markdown",
   "id": "6aa23a92-c21f-4a98-b2f8-2e59991dde61",
   "metadata": {},
   "source": [
    "## Generating the relationship matrix"
   ]
  },
  {
   "cell_type": "code",
   "execution_count": null,
   "id": "ec772793-412b-44ea-b614-67896857841b",
   "metadata": {},
   "outputs": [],
   "source": [
    "# this is the expected relationship matrix for to unrelated full-sib families\n",
    "# there is a total of 30 lines, 15 lines in each family\n",
    "#initializing a 30 x 30 matrix with all values = 0\n",
    "A=matrix(0,30,30)\n",
    "#creating a block of .5 for family 1\n",
    "A[1:15,1:15]=.5\n",
    "#creating a block of .5 for family 2\n",
    "A[16:30,16:30]=.5\n",
    "#setting the diagonal to 1\n",
    "diag(A)<-1\n",
    "print(\"A matrix\")\n",
    "image(A)"
   ]
  },
  {
   "cell_type": "markdown",
   "id": "750640ff-11de-41fe-9b85-630601a24c81",
   "metadata": {},
   "source": [
    "## Setting up the equations\n",
    "\n",
    "### For LSM the equations are:\n",
    "\n",
    "LHS = $$X_{f}'X_{f}$$ and RHS = $$X_{f}'y$$\n",
    "\n",
    "### When including a relationship matrix the mixed model equations are:\n",
    "\n",
    "LHS = \n",
    "$$\\begin{bmatrix}\n",
    "X'X&X'Z \\\\\n",
    "Z'X&Z'Z+\\alpha A^{-1} \\\\\n",
    "\\end{bmatrix}$$\n",
    "\n",
    "and RHS = \n",
    "$$\\begin{bmatrix}\n",
    "X'y \\\\\n",
    "Z'y \\\\\n",
    "\\end{bmatrix}$$"
   ]
  },
  {
   "cell_type": "markdown",
   "id": "4d00f9cc-2501-4ba9-8f62-fdd1acafb5ed",
   "metadata": {},
   "source": [
    "## Simulating data and solving"
   ]
  },
  {
   "cell_type": "code",
   "execution_count": null,
   "id": "94ce4688-9482-4757-9eb0-5a9ff35fe169",
   "metadata": {},
   "outputs": [],
   "source": [
    "#setting block effects\n",
    "blockEffects=c(100,140,75)\n",
    "#setting a vector with the mean of the 2 families\n",
    "meanFam=c(rep(5,15),rep(-5,15))\n",
    "#family 1 will be simulated as being 6 units better than family 2\n",
    "# sampling 30 variety effects\n",
    "# now we are sampling from mvnorm since the variety effects are no longer iid\n",
    "varietyEffects=MASS::mvrnorm(1,meanFam,VarV*A)\n",
    "#setting up full incidence matrix to simulate y\n",
    "Xf=matrix(0,90,33)\n",
    "#loop to form full incidence matrix (Xf)\n",
    "Xf[1:30,1]=1\n",
    "Xf[31:60,2]=1\n",
    "Xf[61:90,3]=1\n",
    "for(i in c(1:30)){\n",
    "  Xf[i,(i+3)]=1\n",
    "  Xf[i+30,(i+3)]=1\n",
    "  Xf[i+60,(i+3)]=1\n",
    "}\n",
    "# generate y values - the variance for varieties = 1 and the residual variance = 4\n",
    "y=Xf[,1:3]%*%blockEffects+Xf[,4:33]%*%varietyEffects+rnorm(90,0,VarE**.5)\n",
    "\n",
    "# setting up incidence matrices\n",
    "X=matrix(0,90,32)\n",
    "#Add an overall mean and remove one level of the block effects\n",
    "X[,1]=1\n",
    "X[31:60,2]=1\n",
    "X[61:90,3]=1\n",
    "\n",
    "# set up X and Z matrix columns associate with the variety effect\n",
    "Z=Xf[,4:33]\n",
    "\n",
    "#for fixed effects we need to remove 1 level of the variety effect\n",
    "X[,4:32]=Xf[,5:33]\n",
    "\n",
    "# setting up LHS and RHS for OLS\n",
    "LHS_OLS=t(X)%*%X\n",
    "RHS_OLS=t(X)%*%y\n",
    "\n",
    "# setting up LHS and RHS for mixed models\n",
    "LHS_MM=matrix(0,33,33)\n",
    "#calculating alpha (residual variance/random effect variance)\n",
    "alpha=VarE/VarV\n",
    "LHS_MM[1:3,1:3] = t(X[,1:3])%*%X[,1:3]\n",
    "LHS_MM[1:3,4:33] = t(X[,1:3])%*%Z\n",
    "LHS_MM[4:33,1:3] = t(Z)%*%X[,1:3]\n",
    "#modifying to use the inverse of the A matrix\n",
    "LHS_MM[4:33,4:33] = t(Z)%*%Z + alpha*solve(A)\n",
    "# note that alpha is generally unknown (unless you simulated the data) so mixed model software has to estimate alpha\n",
    "RHS_MM=matrix(0,33,1)\n",
    "RHS_MM[1:3,1]=t(X[,1:3])%*%y\n",
    "RHS_MM[4:33,1]=t(Z)%*%y\n",
    "\n",
    "#solving for OLS and MM\n",
    "sol_OLS=solve(LHS_OLS)%*%RHS_OLS\n",
    "sol_MM=solve(LHS_MM)%*%RHS_MM\n",
    "\n",
    "# Plot OLS vs MM solutions\n",
    "OLS=rep(0,30)\n",
    "#Adding mean to OLS solutions for variety\n",
    "OLS[2:30]=rep(sol_OLS[1],29)+sol_OLS[4:32]\n",
    "OLS[1]=sol_OLS[1]\n",
    "\n",
    "#Adding mean to OLS solutions for variety\n",
    "MM=rep(sol_MM[1],30)+sol_MM[4:33]\n"
   ]
  },
  {
   "cell_type": "markdown",
   "id": "af52a1a3-06aa-475c-a2f6-214d14b3ac46",
   "metadata": {},
   "source": [
    "## Results"
   ]
  },
  {
   "cell_type": "code",
   "execution_count": null,
   "id": "645c43c3-29dd-4848-aac8-4f0654e6cd87",
   "metadata": {},
   "outputs": [],
   "source": [
    "print(\"Correlation of OLS and MM solutions\")\n",
    "print(cor(OLS,MM))\n",
    "\n",
    "print(\"Correlation of OLS and Simulated Genetic Effects\")\n",
    "print(cor(OLS,varietyEffects))\n",
    "\n",
    "print(\"Correlation of MM and and Simulated Genetic Effects\")\n",
    "print(cor(varietyEffects,MM))\n",
    "\n",
    "plot(OLS,MM, main=\"Plot of means vs BLUPS\")\n",
    "plot(OLS,varietyEffects,main=\"Plot of means vs true value\")\n",
    "plot(MM,varietyEffects,main=\"Plot of BLUPS vs true value\")"
   ]
  },
  {
   "cell_type": "markdown",
   "id": "9421268f-6e2c-4a2d-989f-1fde0d42b475",
   "metadata": {},
   "source": [
    "## ***How might the heritability of a trait impact the benefit of including genetic relationships?*** "
   ]
  },
  {
   "cell_type": "markdown",
   "id": "44834749-448c-493b-9107-fe0c57780719",
   "metadata": {},
   "source": [
    "# Revisiting the breeding scheme\n",
    "## Using the 3 breeding scheme scenarios, repeat the exercise using code below.\n",
    "## The only difference is that we are now assuming we have a more accurate model that reduces the error in our estimates by 25%.\n",
    "## ***Does the change in model accuracy impact which design is best?***"
   ]
  },
  {
   "cell_type": "code",
   "execution_count": null,
   "id": "8e71ec98-df95-4f74-a2e4-206ffffc3203",
   "metadata": {},
   "outputs": [],
   "source": [
    "# Simple example illustrating some trade offs.\n",
    "#input paramters\n",
    "h2_plot=.25\n",
    "# assuming phenotypic variance is 1\n",
    "gVar=h2_plot*1\n",
    "\n",
    "#Scenario 1\n",
    "nLines=50\n",
    "nReps=4\n",
    "nYears=1\n",
    "accuracy=(h2_plot/(h2_plot+((1-h2_plot)/nReps*nYears)*.75))**.5\n",
    "selection_intensity=1.399\n",
    "\n",
    "# Genetic Gain Per Year (assuming it takes 2 years to develop new lines for testing and phenotypic variance =1)\n",
    "R=selection_intensity*accuracy*gVar**.5/(2+nYears)\n",
    "print(\"response to selection scenario 1\")\n",
    "print(R)\n",
    "\n",
    "# Scenario 2\n",
    "\n",
    "nLines=200\n",
    "nReps=1\n",
    "nYears=1\n",
    "accuracy=(h2_plot/(h2_plot+((1-h2_plot)/nReps*nYears)*.75))**.5\n",
    "selection_intensity=2.0627\n",
    "\n",
    "# Genetic Gain Per Year (assuming it takes 2 years to develop new lines for testing and phenotypic variance =1)\n",
    "R=selection_intensity*accuracy*gVar**.5/(2+nYears)\n",
    "print(\"response to selection scenario 2\")\n",
    "print(R)\n",
    "\n",
    "# Scenario 3\n",
    "nLines=100\n",
    "nReps=2\n",
    "nYears=2\n",
    "# Calculating accuracy assuming the advanced model reduces error by 25%\n",
    "accuracy=(h2_plot/(h2_plot+((1-h2_plot)/nReps*nYears)*.75))**.5\n",
    "selection_intensity=1.755\n",
    "\n",
    "# Genetic Gain Per Year (assuming it takes 2 years to develop new lines for testing and phenotypic variance =1)\n",
    "R=selection_intensity*accuracy*gVar**.5/(2+nYears)\n",
    "print(\"response to selection scenario 3\")\n",
    "print(R)"
   ]
  },
  {
   "cell_type": "markdown",
   "id": "04b527b6-f7ae-44cb-83f6-a7adefb3ac53",
   "metadata": {},
   "source": [
    "# Predictive Breeding\n",
    "![](images/predictive_breeding.png)"
   ]
  },
  {
   "cell_type": "code",
   "execution_count": null,
   "id": "6b5f8723-46be-4d65-b727-362a8c12bbe7",
   "metadata": {},
   "outputs": [],
   "source": []
  }
 ],
 "metadata": {
  "kernelspec": {
   "display_name": "R",
   "language": "R",
   "name": "ir"
  },
  "language_info": {
   "codemirror_mode": "r",
   "file_extension": ".r",
   "mimetype": "text/x-r-source",
   "name": "R",
   "pygments_lexer": "r",
   "version": "4.3.3"
  }
 },
 "nbformat": 4,
 "nbformat_minor": 5
}
